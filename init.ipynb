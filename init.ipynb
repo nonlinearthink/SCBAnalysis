{
 "nbformat": 4,
 "nbformat_minor": 2,
 "metadata": {
  "language_info": {
   "name": "python",
   "codemirror_mode": {
    "name": "ipython",
    "version": 3
   },
   "version": "3.7.7-final"
  },
  "orig_nbformat": 2,
  "file_extension": ".py",
  "mimetype": "text/x-python",
  "name": "python",
  "npconvert_exporter": "python",
  "pygments_lexer": "ipython3",
  "version": 3,
  "kernelspec": {
   "name": "python37664bit5addd37ecb504def9505f993786b140c",
   "display_name": "Python 3.7.6 64-bit"
  }
 },
 "cells": [
  {
   "cell_type": "markdown",
   "metadata": {},
   "source": [
    "# 数据清洗、信息提取"
   ]
  },
  {
   "cell_type": "markdown",
   "metadata": {},
   "source": [
    "## 初始化"
   ]
  },
  {
   "cell_type": "code",
   "execution_count": 33,
   "metadata": {},
   "outputs": [],
   "source": [
    "import pandas as pd\n",
    "import time\n",
    "\n",
    "amount = pd.read_csv('data2.csv',encoding='gb2312')\n",
    "student = pd.read_csv('data1.csv',encoding='gb2312')\n",
    "\n",
    "# 日期分割成两个字段\n",
    "amount['Time'] = amount['Date'].apply(lambda date: time.strftime('%H:%M',(time.strptime(date,'%Y/%m/%d %H:%M'))))\n",
    "amount['Date'] = amount['Date'].apply(lambda date: date.split(' ')[0])"
   ]
  },
  {
   "cell_type": "markdown",
   "metadata": {},
   "source": [
    "## 对data2进行数据清洗"
   ]
  },
  {
   "cell_type": "code",
   "execution_count": 34,
   "metadata": {},
   "outputs": [],
   "source": [
    "# 去除重复数据项\n",
    "amount.drop_duplicates(subset=['CardNo','CardCount'])\n",
    "\n",
    "# TerSerNo非空的数据为0点结算，作为异常数据排除\n",
    "amount = amount[amount.TermSerNo.isnull()]\n",
    "# conOperNo非空的数据是非消费数据，作为不需要的数据删除\n",
    "amount = amount[amount.conOperNo.isnull()]\n",
    "\n",
    "# 以防万一，再加一条，显示删除非消费数据\n",
    "amount = amount[amount.Type=='消费']\n",
    "\n",
    "# 删除这些被使用过，已经不再需要的字段\n",
    "del amount['TermSerNo']\n",
    "del amount['conOperNo']\n",
    "del amount['FundMoney']\n",
    "del amount['Type']\n",
    "\n",
    "# 删除其他无效的数据\n",
    "del amount['Index']\n",
    "del amount['PeoNo']\n",
    "\n",
    "# data1的数据清洗\n",
    "del student['Index']"
   ]
  },
  {
   "cell_type": "markdown",
   "metadata": {},
   "source": [
    "## 消费数据整合\n",
    "\n",
    "整合成两张表\n",
    "\n",
    "- consume.csv, 所有的有用的消费数据，但缺少年级、性别等等持卡人信息。\n",
    "\n",
    "- grade18.csv, 18级学生的消费数据，包含持卡人信息。"
   ]
  },
  {
   "cell_type": "code",
   "execution_count": 35,
   "metadata": {},
   "outputs": [],
   "source": [
    "# 保存consume.csv\n",
    "amount.to_csv('consume.csv')\n",
    "\n",
    "# 合并data1和data2数据集\n",
    "data = pd.merge(student, amount, on=['CardNo'])\n",
    "# 保存grade18.csv\n",
    "data.to_csv('grade18.csv')"
   ]
  }
 ]
}