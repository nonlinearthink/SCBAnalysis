{
 "nbformat": 4,
 "nbformat_minor": 2,
 "metadata": {
  "language_info": {
   "name": "python",
   "codemirror_mode": {
    "name": "ipython",
    "version": 3
   },
   "version": "3.7.7-final"
  },
  "orig_nbformat": 2,
  "file_extension": ".py",
  "mimetype": "text/x-python",
  "name": "python",
  "npconvert_exporter": "python",
  "pygments_lexer": "ipython3",
  "version": 3,
  "kernelspec": {
   "name": "python37664bit5addd37ecb504def9505f993786b140c",
   "display_name": "Python 3.7.6 64-bit"
  }
 },
 "cells": [
  {
   "cell_type": "markdown",
   "metadata": {},
   "source": [
    "# 数据清洗、信息提取"
   ]
  },
  {
   "cell_type": "markdown",
   "metadata": {},
   "source": [
    "## 初始化"
   ]
  },
  {
   "cell_type": "code",
   "execution_count": 1,
   "metadata": {},
   "outputs": [],
   "source": [
    "import pandas as pd\n",
    "import time"
   ]
  },
  {
   "cell_type": "markdown",
   "metadata": {},
   "source": [
    "## 制作消费数据集"
   ]
  },
  {
   "cell_type": "code",
   "execution_count": 2,
   "metadata": {},
   "outputs": [],
   "source": [
    "amount = pd.read_csv('data2.csv',encoding='gb2312')\n",
    "# 删除无效字段\n",
    "del amount['TermSerNo']\n",
    "del amount['conOperNo']\n",
    "del amount['Index']\n",
    "del amount['PeoNo']\n",
    "# 筛选出消费记录\n",
    "amount = amount[amount.Type=='消费']\n",
    "del amount['FundMoney']\n",
    "del amount['Type']\n",
    "# 处理日期和时间字符串\n",
    "amount['Time'] = amount['Date'].apply(lambda date: time.strftime('%H:%M',(time.strptime(date,'%Y/%m/%d %H:%M'))))\n",
    "amount['Date'] = amount['Date'].apply(lambda date: date.split(' ')[0])\n",
    "# 保存成新数据集\n",
    "amount.to_csv('consume.csv')"
   ]
  },
  {
   "cell_type": "markdown",
   "metadata": {},
   "source": [
    "## 绑定消费数据和学生信息\n",
    "\n",
    "由于只有18级的学生信息，所以准确来说是结果只包含18级学生的消费数据。"
   ]
  },
  {
   "cell_type": "code",
   "execution_count": 3,
   "metadata": {},
   "outputs": [
    {
     "output_type": "stream",
     "name": "stdout",
     "text": "CardNo Sex   Major  AccessCardNo       Date  Money  Surplus  \\\n0       180001   男  18国际金融      19762330  2019/4/21    7.0     28.4   \n1       180001   男  18国际金融      19762330  2019/4/22    3.5     24.9   \n2       180001   男  18国际金融      19762330  2019/4/10   11.0      2.7   \n3       180001   男  18国际金融      19762330  2019/4/15    7.0     43.2   \n4       180001   男  18国际金融      19762330  2019/4/15    2.5     50.2   \n...        ...  ..     ...           ...        ...    ...      ...   \n232985  184339   女  18工业工程      11513762  2019/4/18    2.5     78.8   \n232986  184339   女  18工业工程      11513762  2019/4/15    4.1     46.5   \n232987  184339   女  18工业工程      11513762  2019/4/15    0.6     45.9   \n232988  184339   女  18工业工程      11513762  2019/4/15    6.0     39.9   \n232989  184339   女  18工业工程      11513762  2019/4/12    0.5     58.3   \n\n        CardCount  TermNo  OperNo  Dept   Time  \n0             206      41     249  第四食堂  18:30  \n1             207      19     236  第一食堂  09:40  \n2             189      82      18  第四食堂  16:42  \n3             192      62       2  第四食堂  11:43  \n4             191       2     236  第一食堂  07:50  \n...           ...     ...     ...   ...    ...  \n232985        551     118     204  第五食堂  18:13  \n232986        526     114       8  第五食堂  07:26  \n232987        527     127     204  第五食堂  07:27  \n232988        528     132     204  第五食堂  13:14  \n232989        521     141     204  第五食堂  15:05  \n\n[232990 rows x 12 columns]\n"
    }
   ],
   "source": [
    "student = pd.read_csv('data1.csv',encoding='gb2312')\n",
    "# 删除合并后会失去意义的字段\n",
    "del student['Index']\n",
    "# 合并data1和data2数据集\n",
    "data = pd.merge(student, amount, on=['CardNo'])\n",
    "# 保存成新数据集\n",
    "data.to_csv('data_grade18.csv')\n",
    "print(data)"
   ]
  }
 ]
}